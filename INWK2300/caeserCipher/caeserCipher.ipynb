{
 "cells": [
  {
   "cell_type": "code",
   "execution_count": 2,
   "metadata": {},
   "outputs": [
    {
     "name": "stdout",
     "output_type": "stream",
     "text": [
      "\n",
      "Would you like to: \n",
      "1.Encrypt\n",
      "2.Decrypt\n",
      "3.Exit Program\n",
      "> 3\n",
      "Goodbye\n"
     ]
    },
    {
     "ename": "SystemExit",
     "evalue": "0",
     "output_type": "error",
     "traceback": [
      "An exception has occurred, use %tb to see the full traceback.\n",
      "\u001b[0;31mSystemExit\u001b[0m\u001b[0;31m:\u001b[0m 0\n"
     ]
    },
    {
     "name": "stderr",
     "output_type": "stream",
     "text": [
      "/usr/local/Cellar/jupyterlab/1.2.6/libexec/lib/python3.7/site-packages/IPython/core/interactiveshell.py:3339: UserWarning: To exit: use 'exit', 'quit', or Ctrl-D.\n",
      "  warn(\"To exit: use 'exit', 'quit', or Ctrl-D.\", stacklevel=1)\n"
     ]
    }
   ],
   "source": [
    "# import dependencies\n",
    "import string\n",
    "import sys\n",
    "import time\n",
    "\n",
    "\n",
    "# Global function\n",
    "def offset(char, relative_address):\n",
    "    return uppercase_alphabet[(uppercase_alphabet.index(char) + relative_address) % 26]\n",
    "\n",
    "\n",
    "# Global variable = \"ABCDEFGHIJKLMNOPQRSTUVWXYZ\"\n",
    "uppercase_alphabet = string.ascii_uppercase\n",
    "\n",
    "\n",
    "class Caesar:\n",
    "    @staticmethod\n",
    "    def encrypt(plain_text, key):\n",
    "        return ''.join(map(offset, list(plain_text), [key, ] * len(plain_text)))\n",
    "\n",
    "    @staticmethod\n",
    "    def decrypt(encrypted_text, key):\n",
    "        return ''.join(map(offset, list(encrypted_text), [26 - key, ] * len(encrypted_text)))\n",
    "\n",
    "    @staticmethod\n",
    "    def get_message_and_key():\n",
    "        plain_text = str(input(\"\\nPlease enter a message: \"))\n",
    "        plain_text = plain_text.replace(' ', '').upper().strip()  # The message is saved in uppercase sans whitespace\n",
    "        plain_text = plain_text.translate(str.maketrans('', '', string.punctuation))\n",
    "        original_key = int(input(\"\\nPlease enter an integer shift value: \"))\n",
    "\n",
    "        print('Original message: ' + plain_text)\n",
    "        print('Keyword: ' + str(original_key))\n",
    "        return plain_text, original_key\n",
    "\n",
    "    @staticmethod\n",
    "    def display_menu():\n",
    "        user_choice = str(input(\"\\nWould you like to: \\n1.Encrypt\\n2.Decrypt\\n3.Exit Program\\n> \"))\n",
    "\n",
    "        if user_choice not in ('1', '2', '3'):  # Only take valid input.\n",
    "            print('Invalid input.')\n",
    "            Caesar.display_menu()\n",
    "\n",
    "        if user_choice == '1':\n",
    "            plain_text, key = Caesar.get_message_and_key()\n",
    "            encrypted = Caesar.encrypt(plain_text, key)\n",
    "            print(\"\\nSwapping time and space...\")\n",
    "            time.sleep(2)  # Sleep function to fake slow processing time.\n",
    "            print(encrypted)\n",
    "\n",
    "        elif user_choice == '2':\n",
    "            encrypted_text, key = Caesar.get_message_and_key()\n",
    "            deciphered = Caesar.decrypt(encrypted_text, key)\n",
    "            print(\"\\nI swear it\\'s almost done.\")\n",
    "            time.sleep(2)  # Sleep function to fake slow processing time.\n",
    "            print('Decrypted message: ' + deciphered)\n",
    "\n",
    "        elif user_choice == '3':\n",
    "            print('Goodbye')\n",
    "            sys.exit(0)\n",
    "\n",
    "\n",
    "def main():\n",
    "    while True:\n",
    "        Caesar.display_menu()\n",
    "        while True:\n",
    "            user_input = str(input('Do you want to run the program again? (y/n): '))\n",
    "            if user_input in ('y', 'n'):\n",
    "                break\n",
    "            print('Invalid input.')\n",
    "\n",
    "        if user_input == 'y':\n",
    "            continue\n",
    "        else:\n",
    "            print('Goodbye!')\n",
    "            break\n",
    "    plain_text = str(input(\"\\nPlease enter a message: \"))\n",
    "    s = int(input(\"\\nPlease enter a shift: \"))\n",
    "    print(\"Text  : \" + plain_text)\n",
    "    print(\"Shift : \" + str(s))\n",
    "    print(\"Cipher: \" + Caesar.encrypt(plain_text, s))\n",
    "\n",
    "\n",
    "if __name__ == \"__main__\":\n",
    "    main()\n"
   ]
  },
  {
   "cell_type": "code",
   "execution_count": null,
   "metadata": {},
   "outputs": [],
   "source": []
  }
 ],
 "metadata": {
  "kernelspec": {
   "display_name": "Python 3",
   "language": "python",
   "name": "python3"
  },
  "language_info": {
   "codemirror_mode": {
    "name": "ipython",
    "version": 3
   },
   "file_extension": ".py",
   "mimetype": "text/x-python",
   "name": "python",
   "nbconvert_exporter": "python",
   "pygments_lexer": "ipython3",
   "version": "3.7.6"
  }
 },
 "nbformat": 4,
 "nbformat_minor": 4
}
